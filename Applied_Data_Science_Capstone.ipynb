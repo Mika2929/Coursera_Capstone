#!/usr/bin/env python
# coding: utf-8

# In[1]:


### Notebook to be used for Coursera's Applied Data Science Capstone Course


# In[2]:


import pandas as pd
import numpy as np


# In[4]:


print("Hello Capstone Project Course!")


# In[ ]:





# In[ ]:





# In[ ]:




